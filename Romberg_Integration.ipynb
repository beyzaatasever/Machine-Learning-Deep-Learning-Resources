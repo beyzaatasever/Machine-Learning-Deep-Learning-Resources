{
  "nbformat": 4,
  "nbformat_minor": 0,
  "metadata": {
    "colab": {
      "provenance": [],
      "authorship_tag": "ABX9TyNzWBj6lmvBspCZ5Rni9BbK",
      "include_colab_link": true
    },
    "kernelspec": {
      "name": "python3",
      "display_name": "Python 3"
    },
    "language_info": {
      "name": "python"
    }
  },
  "cells": [
    {
      "cell_type": "markdown",
      "metadata": {
        "id": "view-in-github",
        "colab_type": "text"
      },
      "source": [
        "<a href=\"https://colab.research.google.com/github/beyzaatasever/Machine-Learning-Deep-Learning-Resources/blob/main/Romberg_Integration.ipynb\" target=\"_parent\"><img src=\"https://colab.research.google.com/assets/colab-badge.svg\" alt=\"Open In Colab\"/></a>"
      ]
    },
    {
      "cell_type": "code",
      "source": [
        "import math\n",
        "\n",
        "print(\"Student: Beyza Atasever\")\n",
        "print(\"HW6 Title: Romberg Method\")\n",
        "def func(x):\n",
        "    return math.exp(x) * math.cos(x)\n",
        "\n",
        "def romberg_integration(func, a, b, n):\n",
        "    # Formation of Romberg table\n",
        "    R = [[0] * (n+1) for _ in range(n+1)]\n",
        "\n",
        "    # trapezoidal rule\n",
        "    h = b - a\n",
        "    R[0][0] = (func(a) + func(b)) * h / 2.0\n",
        "\n",
        "    # columns\n",
        "    for i in range(1, n+1):\n",
        "        h /= 2\n",
        "        sum = 0\n",
        "        for k in range(1, 2**(i-1) + 1):\n",
        "            sum += func(a + (2*k - 1) * h)\n",
        "        R[i][0] = R[i-1][0]/2 + sum * h\n",
        "\n",
        "    # Richardson extrapolation\n",
        "    for j in range(1, n+1):\n",
        "        for i in range(j, n+1):\n",
        "            R[i][j] = R[i][j-1] + (R[i][j-1] - R[i-1][j-1]) / (4**j - 1)\n",
        "\n",
        "    return R[n][n]\n",
        "\n",
        "# interval and number of grid points\n",
        "a = 0.5\n",
        "b = 1.5\n",
        "n = 10\n",
        "\n",
        "# Romberg integration\n",
        "result = romberg_integration(func, a, b, n)\n",
        "print(\"Romberg method integral:\", result)\n"
      ],
      "metadata": {
        "colab": {
          "base_uri": "https://localhost:8080/"
        },
        "id": "LknYZs0iUuvG",
        "outputId": "6415bc23-9c1b-4dbe-f4d6-557ec6e917fb"
      },
      "execution_count": null,
      "outputs": [
        {
          "output_type": "stream",
          "name": "stdout",
          "text": [
            "Student: Beyza Atasever\n",
            "HW6 Title: Romberg Method\n",
            "Romberg method integral: 1.2750782014815323\n"
          ]
        }
      ]
    }
  ]
}